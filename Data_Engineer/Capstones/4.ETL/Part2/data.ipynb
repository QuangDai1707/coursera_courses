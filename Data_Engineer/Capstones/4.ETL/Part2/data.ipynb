{
 "cells": [
  {
   "cell_type": "code",
   "execution_count": 1,
   "metadata": {},
   "outputs": [],
   "source": [
    "from datetime import timedelta\n",
    "import datetime as dt\n",
    "from airflow import DAG\n",
    "from airflow.operators.bash import BashOperator\n",
    "from airflow.utils.dates import days_ago"
   ]
  },
  {
   "cell_type": "code",
   "execution_count": 2,
   "metadata": {},
   "outputs": [],
   "source": [
    "default_args = {\n",
    "    'owner': 'Claudion Ng',\n",
    "    'start_date': dt.datetime.now(),\n",
    "    'email': ['abcasdw@gmail.com'],\n",
    "    'email_on_failure': True,\n",
    "    'email_on_retry': True,\n",
    "    'retries': 1,\n",
    "    'retry_delay': timedelta(minutes=5)\n",
    "}\n"
   ]
  },
  {
   "cell_type": "code",
   "execution_count": 3,
   "metadata": {},
   "outputs": [],
   "source": [
    "dag = DAG(\n",
    "    dag_id='process_web_log',\n",
    "    default_args=default_args,\n",
    "    description='airflow DAG for analyze data',\n",
    "    schedule=timedelta(seconds=5)\n",
    ")"
   ]
  },
  {
   "cell_type": "code",
   "execution_count": 4,
   "metadata": {},
   "outputs": [],
   "source": [
    "extract_data = BashOperator(\n",
    "    task_id='extract_data',\n",
    "    bash_command='cut -d\" \" -f1 accesslog.txt > extract_data.txt',\n",
    "    dag=dag \n",
    ")\n",
    "transform_data = BashOperator(\n",
    "    task_id = 'transform_data',\n",
    "    bash_command='grep -o \"198.46.149.143\" extract_data.txt > transformed_data.txt',\n",
    "    dag=dag\n",
    ")\n",
    "\n",
    "load_data = BashOperator(\n",
    "    task_id = 'load_data',\n",
    "    bash_command='tar -cvf weblog.rar transformed_data.txt',\n",
    "    dag=dag\n",
    ")"
   ]
  },
  {
   "cell_type": "code",
   "execution_count": 5,
   "metadata": {},
   "outputs": [
    {
     "data": {
      "text/plain": [
       "<Task(BashOperator): load_data>"
      ]
     },
     "execution_count": 5,
     "metadata": {},
     "output_type": "execute_result"
    }
   ],
   "source": [
    "extract_data >> transform_data >> load_data"
   ]
  },
  {
   "cell_type": "code",
   "execution_count": null,
   "metadata": {},
   "outputs": [],
   "source": []
  }
 ],
 "metadata": {
  "kernelspec": {
   "display_name": "data_engineer",
   "language": "python",
   "name": "python3"
  },
  "language_info": {
   "codemirror_mode": {
    "name": "ipython",
    "version": 3
   },
   "file_extension": ".py",
   "mimetype": "text/x-python",
   "name": "python",
   "nbconvert_exporter": "python",
   "pygments_lexer": "ipython3",
   "version": "3.9.20"
  },
  "orig_nbformat": 4
 },
 "nbformat": 4,
 "nbformat_minor": 2
}
